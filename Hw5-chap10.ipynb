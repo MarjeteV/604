{
 "cells": [
  {
   "cell_type": "markdown",
   "metadata": {},
   "source": [
    "# Modeling and Simulation in Python\n",
    "\n",
    "Chapter 10\n",
    "\n",
    "Copyright 2017 Allen Downey\n",
    "\n",
    "License: [Creative Commons Attribution 4.0 International](https://creativecommons.org/licenses/by/4.0)\n"
   ]
  },
  {
   "cell_type": "code",
   "execution_count": 1,
   "metadata": {},
   "outputs": [],
   "source": [
    "# Configure Jupyter so figures appear in the notebook\n",
    "%matplotlib inline\n",
    "\n",
    "# Configure Jupyter to display the assigned value after an assignment\n",
    "%config InteractiveShell.ast_node_interactivity='last_expr_or_assign'\n",
    "\n",
    "# import functions from the modsim.py module\n",
    "from modsim import *\n",
    "\n",
    "from pandas import read_html"
   ]
  },
  {
   "cell_type": "markdown",
   "metadata": {},
   "source": [
    "### Under the hood\n",
    "\n",
    "To get a `DataFrame` and a `Series`, I'll read the world population data and select a column.\n",
    "\n",
    "`DataFrame` and `Series` contain a variable called `shape` that indicates the number of rows and columns."
   ]
  },
  {
   "cell_type": "code",
   "execution_count": 2,
   "metadata": {},
   "outputs": [
    {
     "data": {
      "text/plain": [
       "(67, 12)"
      ]
     },
     "execution_count": 2,
     "metadata": {},
     "output_type": "execute_result"
    }
   ],
   "source": [
    "filename = 'https://en.wikipedia.org/wiki/World_population_estimates'\n",
    "tables = read_html(filename, header=0, index_col=0, decimal='M')\n",
    "\n",
    "table2 = pd.read_csv('World_population_estimates2.csv')\n",
    "table2.index = table2.Year\n",
    "table2.shape"
   ]
  },
  {
   "cell_type": "code",
   "execution_count": 3,
   "metadata": {},
   "outputs": [
    {
     "data": {
      "text/plain": [
       "(67,)"
      ]
     },
     "execution_count": 3,
     "metadata": {},
     "output_type": "execute_result"
    }
   ],
   "source": [
    "census = table2.census / 1e9\n",
    "census.shape"
   ]
  },
  {
   "cell_type": "code",
   "execution_count": 4,
   "metadata": {},
   "outputs": [
    {
     "data": {
      "text/plain": [
       "(67,)"
      ]
     },
     "execution_count": 4,
     "metadata": {},
     "output_type": "execute_result"
    }
   ],
   "source": [
    "un = table2.un / 1e9\n",
    "un.shape"
   ]
  },
  {
   "cell_type": "markdown",
   "metadata": {},
   "source": [
    "A `DataFrame` contains `index`, which labels the rows.  It is an `Int64Index`, which is similar to a NumPy array."
   ]
  },
  {
   "cell_type": "code",
   "execution_count": 5,
   "metadata": {
    "scrolled": true
   },
   "outputs": [
    {
     "data": {
      "text/plain": [
       "Int64Index([1950, 1951, 1952, 1953, 1954, 1955, 1956, 1957, 1958, 1959, 1960,\n",
       "            1961, 1962, 1963, 1964, 1965, 1966, 1967, 1968, 1969, 1970, 1971,\n",
       "            1972, 1973, 1974, 1975, 1976, 1977, 1978, 1979, 1980, 1981, 1982,\n",
       "            1983, 1984, 1985, 1986, 1987, 1988, 1989, 1990, 1991, 1992, 1993,\n",
       "            1994, 1995, 1996, 1997, 1998, 1999, 2000, 2001, 2002, 2003, 2004,\n",
       "            2005, 2006, 2007, 2008, 2009, 2010, 2011, 2012, 2013, 2014, 2015,\n",
       "            2016],\n",
       "           dtype='int64', name='Year')"
      ]
     },
     "execution_count": 5,
     "metadata": {},
     "output_type": "execute_result"
    }
   ],
   "source": [
    "table2.index"
   ]
  },
  {
   "cell_type": "markdown",
   "metadata": {},
   "source": [
    "And `columns`, which labels the columns."
   ]
  },
  {
   "cell_type": "code",
   "execution_count": 6,
   "metadata": {
    "scrolled": true
   },
   "outputs": [
    {
     "data": {
      "text/plain": [
       "Index(['Year', 'census', 'prb', 'un', 'maddison', 'hyde', 'tanton', 'biraben',\n",
       "       'mj', 'thomlinson', 'durand', 'clark'],\n",
       "      dtype='object')"
      ]
     },
     "execution_count": 6,
     "metadata": {},
     "output_type": "execute_result"
    }
   ],
   "source": [
    "table2.columns"
   ]
  },
  {
   "cell_type": "markdown",
   "metadata": {},
   "source": [
    "And `values`, which is an array of values."
   ]
  },
  {
   "cell_type": "code",
   "execution_count": 7,
   "metadata": {
    "scrolled": false
   },
   "outputs": [
    {
     "data": {
      "text/plain": [
       "array([[1950, 2557628654, 2516000000.0, 2525149000.0, 2544000000.0,\n",
       "        2527960000.0, 2400000000.0, 2527000000.0, 2500000000.0,\n",
       "        2400000000.0, nan, 2486000000.0],\n",
       "       [1951, 2594939877, nan, 2572850917.0, 2571663000.0, nan, nan, nan,\n",
       "        nan, nan, nan, nan],\n",
       "       [1952, 2636772306, nan, 2619292068.0, 2617949000.0, nan, nan, nan,\n",
       "        nan, nan, nan, nan],\n",
       "       [1953, 2682053389, nan, 2665865392.0, 2665959000.0, nan, nan, nan,\n",
       "        nan, nan, nan, nan],\n",
       "       [1954, 2730228104, nan, 2713172027.0, 2716927000.0, nan, nan, nan,\n",
       "        nan, nan, nan, nan],\n",
       "       [1955, 2782098943, nan, 2761650981.0, 2769074000.0, nan, nan, nan,\n",
       "        nan, nan, nan, nan],\n",
       "       [1956, 2835299673, nan, 2811572031.0, 2822502000.0, nan, nan, nan,\n",
       "        nan, nan, nan, nan],\n",
       "       [1957, 2891349717, nan, 2863042795.0, 2879934000.0, nan, nan, nan,\n",
       "        nan, nan, nan, nan],\n",
       "       [1958, 2948137248, nan, 2916030167.0, 2939254000.0, nan, nan, nan,\n",
       "        nan, nan, nan, nan],\n",
       "       [1959, 3000716593, nan, 2970395814.0, 2995909000.0, nan, nan, nan,\n",
       "        nan, nan, nan, nan],\n",
       "       [1960, 3043001508, nan, 3026002942.0, 3041507000.0, 3042000000.0,\n",
       "        nan, nan, nan, nan, nan, nan],\n",
       "       [1961, 3083966929, nan, 3082830266.0, 3082161000.0, nan, nan, nan,\n",
       "        nan, nan, nan, nan],\n",
       "       [1962, 3140093217, nan, 3141071531.0, 3135787000.0, nan, nan, nan,\n",
       "        nan, nan, nan, 3036000000.0],\n",
       "       [1963, 3209827882, nan, 3201178277.0, 3201354000.0, nan, nan, nan,\n",
       "        nan, nan, nan, nan],\n",
       "       [1964, 3281201306, nan, 3263738832.0, 3266477000.0, nan, nan, nan,\n",
       "        nan, nan, nan, nan],\n",
       "       [1965, 3350425793, nan, 3329122479.0, 3333138000.0, nan, nan, nan,\n",
       "        nan, nan, nan, nan],\n",
       "       [1966, 3420677923, nan, 3397475247.0, 3402224000.0, nan, nan, nan,\n",
       "        nan, nan, nan, 3288000000.0],\n",
       "       [1967, 3490333715, nan, 3468521724.0, 3471464000.0, nan, nan, nan,\n",
       "        nan, nan, nan, nan],\n",
       "       [1968, 3562313822, nan, 3541674891.0, 3543086000.0, nan, nan, nan,\n",
       "        nan, nan, nan, nan],\n",
       "       [1969, 3637159050, nan, 3616108749.0, 3615743000.0, nan, nan, nan,\n",
       "        nan, nan, nan, nan],\n",
       "       [1970, 3712697742, nan, 3691172616.0, 3691157000.0, 3710000000.0,\n",
       "        nan, 3637000000.0, nan, 3600000000.0,\n",
       "        '3,600,000,000– 3,700,000,000', 3632000000.0],\n",
       "       [1971, 3790326948, nan, 3766754345.0, 3769818000.0, nan, nan, nan,\n",
       "        nan, nan, nan, nan],\n",
       "       [1972, 3866568653, nan, 3842873611.0, 3846499000.0, nan, nan, nan,\n",
       "        nan, nan, nan, nan],\n",
       "       [1973, 3942096442, nan, 3919182332.0, 3922793000.0, 3923000000.0,\n",
       "        nan, nan, nan, nan, nan, 3860000000.0],\n",
       "       [1974, 4016608813, nan, 3995304922.0, 3997677000.0, nan, nan, nan,\n",
       "        nan, nan, nan, nan],\n",
       "       [1975, 4089083233, nan, 4071020434.0, 4070671000.0, nan, nan, nan,\n",
       "        3900000000.0, 4000000000.0, nan, nan],\n",
       "       [1976, 4160185010, nan, 4146135850.0, 4141445000.0, nan, nan, nan,\n",
       "        nan, nan, nan, nan],\n",
       "       [1977, 4232084578, nan, 4220816737.0, 4213539000.0, nan, nan, nan,\n",
       "        nan, nan, nan, nan],\n",
       "       [1978, 4304105753, nan, 4295664825.0, 4286317000.0, nan, nan, nan,\n",
       "        nan, nan, nan, nan],\n",
       "       [1979, 4379013942, nan, 4371527871.0, 4363144000.0, nan, nan, nan,\n",
       "        nan, nan, nan, nan],\n",
       "       [1980, 4451362735, nan, 4449048798.0, 4439529000.0, 4461000000.0,\n",
       "        nan, nan, nan, nan, nan, nan],\n",
       "       [1981, 4534410125, nan, 4528234634.0, 4514838000.0, nan, nan, nan,\n",
       "        nan, nan, nan, nan],\n",
       "       [1982, 4614566561, nan, 4608962418.0, 4587307000.0, nan, nan, nan,\n",
       "        nan, nan, nan, nan],\n",
       "       [1983, 4695736743, nan, 4691559840.0, 4676388000.0, nan, nan, nan,\n",
       "        nan, nan, nan, nan],\n",
       "       [1984, 4774569391, nan, 4776392828.0, 4756521000.0, nan, nan, nan,\n",
       "        nan, nan, nan, nan],\n",
       "       [1985, 4856462699, nan, 4863601517.0, 4837719000.0, nan,\n",
       "        5000000000.0, nan, nan, nan, nan, nan],\n",
       "       [1986, 4940571232, nan, 4953376710.0, 4920968000.0, nan, nan, nan,\n",
       "        nan, nan, nan, nan],\n",
       "       [1987, 5027200492, nan, 5045315871.0, 5006672000.0, nan, nan, nan,\n",
       "        nan, nan, nan, nan],\n",
       "       [1988, 5114557167, nan, 5138214688.0, 5093306000.0, nan, nan, nan,\n",
       "        nan, nan, nan, nan],\n",
       "       [1989, 5201440110, nan, 5230000000.0, 5180540000.0, nan, nan, nan,\n",
       "        nan, nan, nan, nan],\n",
       "       [1990, 5288955934, nan, 5320816667.0, 5269029000.0, 5308000000.0,\n",
       "        nan, nan, nan, nan, nan, nan],\n",
       "       [1991, 5371585922, nan, 5408908724.0, 5351922000.0, nan, nan, nan,\n",
       "        nan, nan, nan, nan],\n",
       "       [1992, 5456136278, nan, 5494899570.0, 5435722000.0, nan, nan, nan,\n",
       "        nan, nan, nan, nan],\n",
       "       [1993, 5538268316, nan, 5578865109.0, 5518127000.0, nan, nan, nan,\n",
       "        nan, nan, nan, nan],\n",
       "       [1994, 5618682132, nan, 5661086346.0, 5599396000.0, nan, nan, nan,\n",
       "        nan, nan, nan, nan],\n",
       "       [1995, 5699202985, 5760000000.0, 5741822412.0, 5681575000.0, nan,\n",
       "        nan, nan, nan, nan, nan, nan],\n",
       "       [1996, 5779440593, nan, 5821016750.0, 5762212000.0, nan, nan, nan,\n",
       "        nan, nan, nan, nan],\n",
       "       [1997, 5857972543, 5840000000.0, 5898688337.0, 5842122000.0, nan,\n",
       "        nan, nan, nan, nan, nan, nan],\n",
       "       [1998, 5935213248, nan, 5975303657.0, 5921366000.0, nan, nan, nan,\n",
       "        nan, nan, nan, nan],\n",
       "       [1999, 6012074922, nan, 6051478010.0, 5999622000.0, nan, nan, nan,\n",
       "        nan, nan, nan, nan],\n",
       "       [2000, 6088571383, 6067000000.0, 6127700428.0, 6076558000.0,\n",
       "        6145000000.0, nan, nan, 5750000000.0, nan, nan, nan],\n",
       "       [2001, 6165219247, 6137000000.0, 6204147026.0, 6154791000.0, nan,\n",
       "        nan, nan, nan, nan, nan, nan],\n",
       "       [2002, 6242016348, 6215000000.0, 6280853817.0, 6231704000.0, nan,\n",
       "        nan, nan, nan, nan, nan, nan],\n",
       "       [2003, 6318590956, 6314000000.0, 6357991749.0, 6308364000.0, nan,\n",
       "        nan, nan, nan, nan, nan, nan],\n",
       "       [2004, 6395699509, 6396000000.0, 6435705595.0, 6374056000.0, nan,\n",
       "        nan, nan, nan, nan, nan, nan],\n",
       "       [2005, 6473044732, 6477000000.0, 6514094605.0, 6462987000.0, nan,\n",
       "        nan, nan, nan, nan, nan, nan],\n",
       "       [2006, 6551263534, 6555000000.0, 6593227977.0, 6540214000.0, nan,\n",
       "        nan, nan, nan, nan, nan, nan],\n",
       "       [2007, 6629913759, 6625000000.0, 6673105937.0, 6616689000.0, nan,\n",
       "        nan, nan, nan, nan, nan, nan],\n",
       "       [2008, 6709049780, 6705000000.0, 6753649228.0, 6694832000.0, nan,\n",
       "        nan, nan, nan, nan, nan, nan],\n",
       "       [2009, 6788214394, 6809972000.0, 6834721933.0, 6764086000.0, nan,\n",
       "        nan, nan, nan, nan, nan, nan],\n",
       "       [2010, 6858584755, 6892319000.0, 6916183482.0, nan, nan, nan, nan,\n",
       "        nan, nan, nan, nan],\n",
       "       [2011, 6935999491, 6986951000.0, 6997998760.0, nan, nan, nan, nan,\n",
       "        nan, nan, nan, nan],\n",
       "       [2012, 7013871313, 7057075000.0, 7080072417.0, nan, nan, nan, nan,\n",
       "        nan, nan, nan, nan],\n",
       "       [2013, 7092128094, 7136796000.0, 7162119434.0, nan, nan, nan, nan,\n",
       "        nan, nan, nan, nan],\n",
       "       [2014, 7169968185, 7238184000.0, 7243784000.0, nan, nan, nan, nan,\n",
       "        nan, nan, nan, nan],\n",
       "       [2015, 7247892788, 7336435000.0, 7349472000.0, nan, nan, nan, nan,\n",
       "        nan, nan, nan, nan],\n",
       "       [2016, 7325996709, 7418151841.0, nan, nan, nan, nan, nan, nan,\n",
       "        nan, nan, nan]], dtype=object)"
      ]
     },
     "execution_count": 7,
     "metadata": {},
     "output_type": "execute_result"
    }
   ],
   "source": [
    "table2.values"
   ]
  },
  {
   "cell_type": "markdown",
   "metadata": {},
   "source": [
    "A `Series` does not have `columns`, but it does have `name`."
   ]
  },
  {
   "cell_type": "code",
   "execution_count": 8,
   "metadata": {
    "scrolled": true
   },
   "outputs": [
    {
     "data": {
      "text/plain": [
       "'census'"
      ]
     },
     "execution_count": 8,
     "metadata": {},
     "output_type": "execute_result"
    }
   ],
   "source": [
    "census.name"
   ]
  },
  {
   "cell_type": "markdown",
   "metadata": {},
   "source": [
    "It contains `values`, which is an array."
   ]
  },
  {
   "cell_type": "code",
   "execution_count": 9,
   "metadata": {},
   "outputs": [
    {
     "data": {
      "text/plain": [
       "array([2.55762865, 2.59493988, 2.63677231, 2.68205339, 2.7302281 ,\n",
       "       2.78209894, 2.83529967, 2.89134972, 2.94813725, 3.00071659,\n",
       "       3.04300151, 3.08396693, 3.14009322, 3.20982788, 3.28120131,\n",
       "       3.35042579, 3.42067792, 3.49033371, 3.56231382, 3.63715905,\n",
       "       3.71269774, 3.79032695, 3.86656865, 3.94209644, 4.01660881,\n",
       "       4.08908323, 4.16018501, 4.23208458, 4.30410575, 4.37901394,\n",
       "       4.45136274, 4.53441012, 4.61456656, 4.69573674, 4.77456939,\n",
       "       4.8564627 , 4.94057123, 5.02720049, 5.11455717, 5.20144011,\n",
       "       5.28895593, 5.37158592, 5.45613628, 5.53826832, 5.61868213,\n",
       "       5.69920299, 5.77944059, 5.85797254, 5.93521325, 6.01207492,\n",
       "       6.08857138, 6.16521925, 6.24201635, 6.31859096, 6.39569951,\n",
       "       6.47304473, 6.55126353, 6.62991376, 6.70904978, 6.78821439,\n",
       "       6.85858475, 6.93599949, 7.01387131, 7.09212809, 7.16996819,\n",
       "       7.24789279, 7.32599671])"
      ]
     },
     "execution_count": 9,
     "metadata": {},
     "output_type": "execute_result"
    }
   ],
   "source": [
    "census.values"
   ]
  },
  {
   "cell_type": "markdown",
   "metadata": {},
   "source": [
    "And it contains `index`:"
   ]
  },
  {
   "cell_type": "code",
   "execution_count": 10,
   "metadata": {},
   "outputs": [
    {
     "data": {
      "text/plain": [
       "Int64Index([1950, 1951, 1952, 1953, 1954, 1955, 1956, 1957, 1958, 1959, 1960,\n",
       "            1961, 1962, 1963, 1964, 1965, 1966, 1967, 1968, 1969, 1970, 1971,\n",
       "            1972, 1973, 1974, 1975, 1976, 1977, 1978, 1979, 1980, 1981, 1982,\n",
       "            1983, 1984, 1985, 1986, 1987, 1988, 1989, 1990, 1991, 1992, 1993,\n",
       "            1994, 1995, 1996, 1997, 1998, 1999, 2000, 2001, 2002, 2003, 2004,\n",
       "            2005, 2006, 2007, 2008, 2009, 2010, 2011, 2012, 2013, 2014, 2015,\n",
       "            2016],\n",
       "           dtype='int64', name='Year')"
      ]
     },
     "execution_count": 10,
     "metadata": {},
     "output_type": "execute_result"
    }
   ],
   "source": [
    "census.index"
   ]
  },
  {
   "cell_type": "markdown",
   "metadata": {},
   "source": [
    "If you ever wonder what kind of object a variable refers to, you can use the `type` function.  The result indicates what type the object is, and the module where that type is defined.\n",
    "\n",
    "`DataFrame`, `Int64Index`, `Index`, and `Series` are defined by Pandas.\n",
    "\n",
    "`ndarray` is defined by NumPy."
   ]
  },
  {
   "cell_type": "code",
   "execution_count": 11,
   "metadata": {},
   "outputs": [
    {
     "data": {
      "text/plain": [
       "pandas.core.frame.DataFrame"
      ]
     },
     "execution_count": 11,
     "metadata": {},
     "output_type": "execute_result"
    }
   ],
   "source": [
    "type(table2)"
   ]
  },
  {
   "cell_type": "code",
   "execution_count": 12,
   "metadata": {},
   "outputs": [
    {
     "data": {
      "text/plain": [
       "pandas.core.indexes.numeric.Int64Index"
      ]
     },
     "execution_count": 12,
     "metadata": {},
     "output_type": "execute_result"
    }
   ],
   "source": [
    "type(table2.index)"
   ]
  },
  {
   "cell_type": "code",
   "execution_count": 13,
   "metadata": {},
   "outputs": [
    {
     "data": {
      "text/plain": [
       "pandas.core.indexes.base.Index"
      ]
     },
     "execution_count": 13,
     "metadata": {},
     "output_type": "execute_result"
    }
   ],
   "source": [
    "type(table2.columns)"
   ]
  },
  {
   "cell_type": "code",
   "execution_count": 14,
   "metadata": {},
   "outputs": [
    {
     "data": {
      "text/plain": [
       "numpy.ndarray"
      ]
     },
     "execution_count": 14,
     "metadata": {},
     "output_type": "execute_result"
    }
   ],
   "source": [
    "type(table2.values)"
   ]
  },
  {
   "cell_type": "code",
   "execution_count": 15,
   "metadata": {},
   "outputs": [
    {
     "data": {
      "text/plain": [
       "pandas.core.series.Series"
      ]
     },
     "execution_count": 15,
     "metadata": {},
     "output_type": "execute_result"
    }
   ],
   "source": [
    "type(census)"
   ]
  },
  {
   "cell_type": "code",
   "execution_count": 16,
   "metadata": {},
   "outputs": [
    {
     "data": {
      "text/plain": [
       "pandas.core.indexes.numeric.Int64Index"
      ]
     },
     "execution_count": 16,
     "metadata": {},
     "output_type": "execute_result"
    }
   ],
   "source": [
    "type(census.index)"
   ]
  },
  {
   "cell_type": "code",
   "execution_count": 17,
   "metadata": {
    "scrolled": true
   },
   "outputs": [
    {
     "data": {
      "text/plain": [
       "numpy.ndarray"
      ]
     },
     "execution_count": 17,
     "metadata": {},
     "output_type": "execute_result"
    }
   ],
   "source": [
    "type(census.values)"
   ]
  },
  {
   "cell_type": "markdown",
   "metadata": {},
   "source": [
    "## Optional exercise\n",
    "\n",
    "The following exercise provides a chance to practice what you have learned so far, and maybe develop a different growth model.  If you feel comfortable with what we have done so far, you might want to give it a try.\n",
    "\n",
    "**Optional Exercise:** On the Wikipedia page about world population estimates, the first table contains estimates for prehistoric populations.  The following cells process this table and plot some of the results."
   ]
  },
  {
   "cell_type": "code",
   "execution_count": 19,
   "metadata": {},
   "outputs": [
    {
     "data": {
      "text/plain": [
       "[                              1400       1500       1600       1700  \\\n",
       " Year                                                                  \n",
       " population(in billions)  0.35–0.40  0.43–0.50  0.50–0.58  0.60–0.68   \n",
       " growth p.a.[1]                 >0%     <0.12%  0.15–0.3%  0.1–0.15%   \n",
       " \n",
       "                               1800       1900       2000      2100  \n",
       " Year                                                                \n",
       " population(in billions)  0.89–0.98  1.56–1.71  6.06–6.15  c. 10–13  \n",
       " growth p.a.[1]            0.3–0.5%   0.5–0.6%   1.3–1.4%  0.7–0.8%  ,\n",
       "        PRB (1973–2016)[15]  UN (2015)[16] Maddison (2008)[17] HYDE (2010)[18]  \\\n",
       " Year                                                                            \n",
       " −10000                 NaN            NaN                 NaN          2M[25]   \n",
       " −9000                  NaN            NaN                 NaN              4.   \n",
       " −8000                   5.            NaN                 NaN              5.   \n",
       " −7000                   7.            NaN                 NaN              8.   \n",
       " −6000                  14.            NaN                 NaN             11.   \n",
       " −5000                  27.            NaN                 NaN         18M[25]   \n",
       " −4000                  50.            NaN                 NaN             28.   \n",
       " −3000                 100.            NaN                 NaN             45.   \n",
       " −2000                  NaN            NaN                 NaN             72.   \n",
       " −1000                 100.            NaN                 NaN            115.   \n",
       " −500                  150.            NaN                 NaN             NaN   \n",
       " −200                  227.            NaN                 NaN             NaN   \n",
       " 1                 300M[26]          300.0            231M[27]        188M[25]   \n",
       " 100                    NaN            NaN                 NaN            195.   \n",
       " 200                    NaN            NaN                 NaN            202.   \n",
       " 300                    NaN            NaN                 NaN            205.   \n",
       " 350                    NaN            NaN                 NaN             NaN   \n",
       " 400                    NaN            NaN                 NaN            209.   \n",
       " 500                   280.            NaN                 NaN        210M[25]   \n",
       " 600                    NaN            NaN                 NaN            213.   \n",
       " 700                    NaN            NaN                 NaN            226.   \n",
       " 800                    NaN            NaN                 NaN            240.   \n",
       " 900                    NaN            NaN                 NaN            269.   \n",
       " 1000                  400.          310.0                267.        295M[25]   \n",
       " 1100                  450.            NaN                 NaN            353.   \n",
       " 1200                  500.            NaN                 NaN            393.   \n",
       " 1250                   NaN          400.0                 NaN             NaN   \n",
       " 1300                  500.            NaN                 NaN            392.   \n",
       " 1340                   NaN            NaN                 NaN             NaN   \n",
       " 1400                  500.            NaN                 NaN            390.   \n",
       " 1500                  600.          500.0                438.        461M[25]   \n",
       " 1600                  600.            NaN                556.        554M[25]   \n",
       " 1650           (<700M)[14]            NaN                 NaN             NaN   \n",
       " 1700                  660.            NaN               1000.        603M[25]   \n",
       " 1750                   NaN          791.0                 NaN            814.   \n",
       " 1800                 1000.          978.0                 NaN        989M[25]   \n",
       " 1820                   NaN            NaN               1042.             NaN   \n",
       " 1850                 1265.         1262.0                 NaN           1263.   \n",
       " 1870                   NaN            NaN               1276.             NaN   \n",
       " 1875                   NaN            NaN                 NaN             NaN   \n",
       " 1900                 1656.         1650.0               1563.      1,654M[25]   \n",
       " 1910                   NaN         1750.0                 NaN           1777.   \n",
       " 1913                   NaN            NaN               1793.             NaN   \n",
       " 1920                   NaN         1860.0               1863.           1912.   \n",
       " 1925                 2000.            NaN                 NaN             NaN   \n",
       " 1930                   NaN         2070.0                 NaN           2092.   \n",
       " 1940                   NaN         2300.0               2299.           2307.   \n",
       " \n",
       "         Tanton (1994)[19]  Biraben (1980)[20]  McEvedy & Jones (1978)[21]  \\\n",
       " Year                                                                        \n",
       " −10000                NaN                 NaN                         4.0   \n",
       " −9000                 NaN                 NaN                         NaN   \n",
       " −8000                 NaN                 NaN                         NaN   \n",
       " −7000                 NaN                 NaN                         NaN   \n",
       " −6000                 NaN                 NaN                         NaN   \n",
       " −5000                 NaN                 NaN                         5.0   \n",
       " −4000                 NaN                 NaN                         7.0   \n",
       " −3000                 NaN                 NaN                        14.0   \n",
       " −2000                 NaN                 NaN                        27.0   \n",
       " −1000                 NaN                 NaN                        50.0   \n",
       " −500                  NaN                 NaN                         NaN   \n",
       " −200                  NaN                 NaN                       150.0   \n",
       " 1                   150.0               255.0                       170.0   \n",
       " 100                   NaN                 NaN                         NaN   \n",
       " 200                   NaN               256.0                       190.0   \n",
       " 300                   NaN                 NaN                         NaN   \n",
       " 350                   NaN                 NaN                         NaN   \n",
       " 400                   NaN               206.0                       190.0   \n",
       " 500                   NaN               206.0                       190.0   \n",
       " 600                   NaN               206.0                       200.0   \n",
       " 700                   NaN               207.0                       210.0   \n",
       " 800                   NaN               224.0                       220.0   \n",
       " 900                   NaN               226.0                       240.0   \n",
       " 1000                  NaN               254.0                       265.0   \n",
       " 1100                  NaN               301.0                       320.0   \n",
       " 1200                  NaN               400.0                       360.0   \n",
       " 1250                  NaN               416.0                         NaN   \n",
       " 1300                300.0               432.0                       360.0   \n",
       " 1340                  NaN               443.0                         NaN   \n",
       " 1400                  NaN               374.0                       350.0   \n",
       " 1500                460.0               425.0                         NaN   \n",
       " 1600                  NaN               579.0                       545.0   \n",
       " 1650                  NaN                 NaN                       545.0   \n",
       " 1700               1000.0              1079.0                      1000.0   \n",
       " 1750                  NaN                 NaN                         NaN   \n",
       " 1800                900.0                 NaN                         NaN   \n",
       " 1820                  NaN                 NaN                         NaN   \n",
       " 1850                  NaN              1241.0                      1200.0   \n",
       " 1870                  NaN                 NaN                         NaN   \n",
       " 1875                  NaN                 NaN                      1325.0   \n",
       " 1900               1600.0              1633.0                      1625.0   \n",
       " 1910                  NaN                 NaN                         NaN   \n",
       " 1913                  NaN                 NaN                         NaN   \n",
       " 1920                  NaN                 NaN                         NaN   \n",
       " 1925                  NaN                 NaN                      2000.0   \n",
       " 1930                  NaN                 NaN                         NaN   \n",
       " 1940                  NaN                 NaN                         NaN   \n",
       " \n",
       "        Thomlinson (1975)[22] Durand (1974)[23] Clark (1967)[24]  Gapminder  \n",
       " Year                                                                        \n",
       " −10000                 1–10M               NaN              NaN        4.0  \n",
       " −9000                    NaN               NaN              NaN        NaN  \n",
       " −8000                    NaN             5–10M              NaN        NaN  \n",
       " −7000                    NaN               NaN              NaN        NaN  \n",
       " −6000                    NaN               NaN              NaN        NaN  \n",
       " −5000                  5–20M               NaN              NaN        5.0  \n",
       " −4000                    NaN               NaN              NaN        7.0  \n",
       " −3000                    NaN               NaN              NaN       14.0  \n",
       " −2000                    NaN               NaN              NaN       27.0  \n",
       " −1000                    NaN               NaN              NaN       50.0  \n",
       " −500                     NaN               NaN              NaN        NaN  \n",
       " −200                     NaN               NaN              NaN      150.0  \n",
       " 1                       200.          270–330M         256M[28]      170.0  \n",
       " 100                      NaN               NaN              NaN        NaN  \n",
       " 200                      NaN               NaN              NaN      190.0  \n",
       " 300                      NaN               NaN              NaN        NaN  \n",
       " 350                      NaN               NaN             254.        NaN  \n",
       " 400                      NaN               NaN              NaN      190.0  \n",
       " 500                      NaN               NaN              NaN      190.0  \n",
       " 600                      NaN               NaN             237.      200.0  \n",
       " 700                      NaN               NaN              NaN      207.0  \n",
       " 800                      NaN               NaN             261.      224.0  \n",
       " 900                      NaN               NaN              NaN      226.0  \n",
       " 1000                     NaN          275–345M             280.      254.0  \n",
       " 1100                     NaN               NaN              NaN      301.0  \n",
       " 1200                     NaN               NaN             384.      400.0  \n",
       " 1250                     NaN               NaN              NaN      416.0  \n",
       " 1300                    400.               NaN              NaN      432.0  \n",
       " 1340                     NaN               NaN             378.      443.0  \n",
       " 1400                     NaN               NaN              NaN      374.0  \n",
       " 1500                     NaN          440–540M             427.      460.0  \n",
       " 1600                     NaN               NaN             498.      579.0  \n",
       " 1650                    500.               NaN             516.      579.0  \n",
       " 1700                     NaN             1041.            1079.        NaN  \n",
       " 1750                    700.               NaN              NaN      770.0  \n",
       " 1800                    900.               NaN              NaN      985.0  \n",
       " 1820                     NaN               NaN              NaN     1093.0  \n",
       " 1850                   1200.               NaN              NaN     1278.0  \n",
       " 1870                     NaN               NaN              NaN     1347.0  \n",
       " 1875                     NaN               NaN              NaN     1383.0  \n",
       " 1900                   1600.      1,650–1,710M            1668.     1645.0  \n",
       " 1910                     NaN               NaN              NaN     1790.0  \n",
       " 1913                     NaN               NaN              NaN     1829.0  \n",
       " 1920                     NaN               NaN            1968.     1924.0  \n",
       " 1925                     NaN               NaN              NaN     2007.0  \n",
       " 1930                     NaN               NaN            2145.     2100.0  \n",
       " 1940                     NaN               NaN            2340.     2324.0  ,\n",
       "       United States Census Bureau (2017)[29]  \\\n",
       " Year                                           \n",
       " 1950                              2557628654   \n",
       " 1951                              2594939877   \n",
       " 1952                              2636772306   \n",
       " 1953                              2682053389   \n",
       " 1954                              2730228104   \n",
       " ...                                      ...   \n",
       " 2012                              7013871313   \n",
       " 2013                              7092128094   \n",
       " 2014                              7169968185   \n",
       " 2015                              7247892788   \n",
       " 2016                              7325996709   \n",
       " \n",
       "       Population Reference Bureau (1973–2016)[15]  \\\n",
       " Year                                                \n",
       " 1950                                 2.516000e+09   \n",
       " 1951                                          NaN   \n",
       " 1952                                          NaN   \n",
       " 1953                                          NaN   \n",
       " 1954                                          NaN   \n",
       " ...                                           ...   \n",
       " 2012                                 7.057075e+09   \n",
       " 2013                                 7.136796e+09   \n",
       " 2014                                 7.238184e+09   \n",
       " 2015                                 7.336435e+09   \n",
       " 2016                                 7.418152e+09   \n",
       " \n",
       "       United Nations Department of Economic and Social Affairs (2015)[16]  \\\n",
       " Year                                                                        \n",
       " 1950                                       2.525149e+09                     \n",
       " 1951                                       2.572851e+09                     \n",
       " 1952                                       2.619292e+09                     \n",
       " 1953                                       2.665865e+09                     \n",
       " 1954                                       2.713172e+09                     \n",
       " ...                                                 ...                     \n",
       " 2012                                       7.080072e+09                     \n",
       " 2013                                       7.162119e+09                     \n",
       " 2014                                       7.243784e+09                     \n",
       " 2015                                       7.349472e+09                     \n",
       " 2016                                                NaN                     \n",
       " \n",
       "       Maddison (2008)[17]  HYDE (2007)[25]  Tanton (1994)[19]  \\\n",
       " Year                                                            \n",
       " 1950         2.544000e+09     2.527960e+09       2.400000e+09   \n",
       " 1951         2.571663e+09              NaN                NaN   \n",
       " 1952         2.617949e+09              NaN                NaN   \n",
       " 1953         2.665959e+09              NaN                NaN   \n",
       " 1954         2.716927e+09              NaN                NaN   \n",
       " ...                   ...              ...                ...   \n",
       " 2012                  NaN              NaN                NaN   \n",
       " 2013                  NaN              NaN                NaN   \n",
       " 2014                  NaN              NaN                NaN   \n",
       " 2015                  NaN              NaN                NaN   \n",
       " 2016                  NaN              NaN                NaN   \n",
       " \n",
       "       Biraben (1980)[20]  McEvedy & Jones (1978)[21]  Thomlinson (1975)[22]  \\\n",
       " Year                                                                          \n",
       " 1950        2.527000e+09                2.500000e+09           2.400000e+09   \n",
       " 1951                 NaN                         NaN                    NaN   \n",
       " 1952                 NaN                         NaN                    NaN   \n",
       " 1953                 NaN                         NaN                    NaN   \n",
       " 1954                 NaN                         NaN                    NaN   \n",
       " ...                  ...                         ...                    ...   \n",
       " 2012                 NaN                         NaN                    NaN   \n",
       " 2013                 NaN                         NaN                    NaN   \n",
       " 2014                 NaN                         NaN                    NaN   \n",
       " 2015                 NaN                         NaN                    NaN   \n",
       " 2016                 NaN                         NaN                    NaN   \n",
       " \n",
       "      Durand (1974)[23]  Clark (1967)[24]  \n",
       " Year                                      \n",
       " 1950               NaN      2.486000e+09  \n",
       " 1951               NaN               NaN  \n",
       " 1952               NaN               NaN  \n",
       " 1953               NaN               NaN  \n",
       " 1954               NaN               NaN  \n",
       " ...                ...               ...  \n",
       " 2012               NaN               NaN  \n",
       " 2013               NaN               NaN  \n",
       " 2014               NaN               NaN  \n",
       " 2015               NaN               NaN  \n",
       " 2016               NaN               NaN  \n",
       " \n",
       " [67 rows x 11 columns],\n",
       "                                1       1000       1500       1600       1700  \\\n",
       " Year                                                                           \n",
       " Asia                   168 (74%)  183 (69%)  284 (65%)  379 (68%)  402 (67%)   \n",
       " East/Southeast Asia     74 (33%)   88 (33%)  166 (38%)  223 (40%)  216 (36%)   \n",
       " South Asia              75 (33%)   75 (28%)  110 (25%)  135 (24%)  165 (27%)   \n",
       " Europe[31]              34 (15%)   40 (15%)   78 (18%)  112 (20%)  127 (21%)   \n",
       " West Asia                19 (8%)    20 (7%)    18 (3%)    21 (3%)    21 (3%)   \n",
       " Africa                   17 (8%)   32 (12%)   47 (11%)   55 (10%)   61 (10%)   \n",
       " South/Central America     6 (3%)    11 (4%)    18 (4%)     9 (2%)    12 (2%)   \n",
       " North America             1 (0%)     1 (0%)     2 (0%)     2 (0%)     1 (0%)   \n",
       " Oceania                      0.4        0.4        0.6        0.6        0.6   \n",
       " World                        226        267        438        556        603   \n",
       " World growth p.a.            NaN      +0.0%      +0.1%      +0.2%      +0.1%   \n",
       " \n",
       "                             1820       1913         2000         2030  \n",
       " Year                                                                   \n",
       " Asia                   710 (68%)  978 (55%)  3,605 (59%)  4,790 (59%)  \n",
       " East/Southeast Asia    469 (45%)  613 (34%)  1,996 (33%)  2,417 (30%)  \n",
       " South Asia             216 (21%)  326 (18%)  1,372 (23%)  2,003 (25%)  \n",
       " Europe[31]             224 (21%)  498 (28%)    742 (13%)    829 (11%)  \n",
       " West Asia                25 (2%)    39 (2%)     237 (4%)     370 (5%)  \n",
       " Africa                   74 (7%)   125 (7%)    798 (13%)  1,449 (18%)  \n",
       " South/Central America    22 (2%)    81 (5%)     520 (9%)     702 (9%)  \n",
       " North America            11 (1%)   105 (6%)     314 (5%)     413 (5%)  \n",
       " Oceania                      0.4          5      23 (0%)      28 (0%)  \n",
       " World                       1041       1791         6062         8175  \n",
       " World growth p.a.          +0.5%      +0.6%        +1.4%        +1.0%  ,\n",
       "                               1    1000    1500    1600    1700     1820  \\\n",
       " Year                                                                       \n",
       " Austria                     500     700    2000    2500    2500     3369   \n",
       " Belgium                     300     400    1400    1600    2000     3424   \n",
       " Denmark                     250     360     600     650     700     1155   \n",
       " Finland                     250     250     300     400     400     1169   \n",
       " France                     5000    6500   15000   18500   21471    31246   \n",
       " Germany                    3000    3500   12000   16000   15000    24905   \n",
       " Italy                      7000    6000   10500   13100   13300    20176   \n",
       " Netherlands                 200     300     950    1500    1900     2355   \n",
       " Norway                      250     400     300     400     500      970   \n",
       " Sweden                      250     350     700    1000    1260     2585   \n",
       " Switzerland                 150     300     650    1000    1200     1829   \n",
       " United Kingdom             1500    2000    3942    6170    8565    21226   \n",
       " 12 Countries Total        18000   24700   48192   62580   68796   114419   \n",
       " Portugal                    800     900    1000    1100    2000     3297   \n",
       " Spain                      4500    4000    6800    8240    8770    12203   \n",
       " Other                      2100    1113    1276    1858    1894     2969   \n",
       " Total Western Europe      25550   30413   57268   73778   81460   132888   \n",
       " Eastern Europe             7900    9000   18000   18000   18800    36415   \n",
       " Former USSR               18000   18000   18000   20700   26550    54765   \n",
       " United States              5000    5000    5000    2500    1000     9981   \n",
       " Other Western Offshoots     490     660     800     800     750     1249   \n",
       " Total Western Offshoots    1170    1960    2800    2300    1750    11230   \n",
       " Mexico                    10000   10000   10000    2500    4500     6587   \n",
       " Other Latin America       10000   20000   30000    6100    7550    14633   \n",
       " Total Latin America       20000   30000   40000    8600   12050    21220   \n",
       " Japan                      3000    7500   15400   18500   27000    31000   \n",
       " China                     50000   59000  103000  160000  138000   381000   \n",
       " India                     60000   75000  110000  135000  165000   209000   \n",
       " Other Asia                66000   41400   55400   65000   71800    89366   \n",
       " Total Asia               179000  175400  268400  360000  374800   679366   \n",
       " Africa                    35000   33000   46000   55000   61000    74208   \n",
       " World                    300000  268273  437818  555828  603410  1041092   \n",
       " \n",
       "                             1870     1900     1950     1973  1998[32]  \n",
       " Year                                                                   \n",
       " Austria                     4520     6767     6935     7586      8078  \n",
       " Belgium                     5096     7666     8640     9738     10197  \n",
       " Denmark                     1888     2983     4269     5022      5303  \n",
       " Finland                     1754     3027     4009     4666      5153  \n",
       " France                     38440    41463    41836    52118     58805  \n",
       " Germany                    39231    65058    68371    78956     82029  \n",
       " Italy                      27888    37248    47105    54751     57592  \n",
       " Netherlands                 3615     6164    10114    13438     15700  \n",
       " Norway                      1735     2447     3265     3961      4432  \n",
       " Sweden                      4164     5621     7015     8137      8851  \n",
       " Switzerland                 2664     3864     4694     6441      7130  \n",
       " United Kingdom             31393    45649    50363    56223     59237  \n",
       " 12 Countries Total        162388   227957   256616   301037    322507  \n",
       " Portugal                    4353     6004     8512     8634      9968  \n",
       " Spain                      16201    20263    27868    34810     39371  \n",
       " Other                       4590     6783    12064    13909     16553  \n",
       " Total Western Europe      187532   261007   305060   358390    388399  \n",
       " Eastern Europe             52182    79604    87289   110490    121006  \n",
       " Former USSR                88672   156192   180050   249748    290866  \n",
       " United States              40241    97606   152271   212909    270561  \n",
       " Other Western Offshoots     5892    13795    23823    39036     52859  \n",
       " Total Western Offshoots    46133   111401   176094   250945    323420  \n",
       " Mexico                      9219    14970    28485    57643     98553  \n",
       " Other Latin America        30754    65545   137352   250807    409070  \n",
       " Total Latin America        39973    80515   165837   308450    507623  \n",
       " Japan                      34437    51672    83563   108660    126469  \n",
       " China                     358000   437140   546815   881940   1242700  \n",
       " India                     253000   303700   359000   580000    975000  \n",
       " Other Asia                119619   185092   392481   677214   1172243  \n",
       " Total Asia                730619   925932  1298296  2139154   3389943  \n",
       " Africa                     90466   124697   228342   387645    759954  \n",
       " World                    1270014  1791020  2524531  3913482   5907680  ,\n",
       "                                                    .mw-parser-output .navbar{display:inline;font-size:88%;font-weight:normal}.mw-parser-output .navbar-collapse{float:left;text-align:left}.mw-parser-output .navbar-boxtext{word-spacing:0}.mw-parser-output .navbar ul{display:inline-block;white-space:nowrap;line-height:inherit}.mw-parser-output .navbar-brackets::before{margin-right:-0.125em;content:\"[ \"}.mw-parser-output .navbar-brackets::after{margin-left:-0.125em;content:\" ]\"}.mw-parser-output .navbar li{word-spacing:-0.125em}.mw-parser-output .navbar a>span,.mw-parser-output .navbar a>abbr{text-decoration:inherit}.mw-parser-output .navbar-mini abbr{font-variant:small-caps;border-bottom:none;text-decoration:none;cursor:inherit}.mw-parser-output .navbar-ct-full{font-size:114%;margin:0 7em}.mw-parser-output .navbar-ct-mini{font-size:114%;margin:0 4em}vtePopulation.1\n",
       " .mw-parser-output .navbar{display:inline;font-s...                                                                                                                                                                                                                                                                                                                                                                                                                                                                                                                                                                                                                                                                                                                                                                                                                                                        \n",
       " Major topics                                        Demographics of the world Demographic transiti...                                                                                                                                                                                                                                                                                                                                                                                                                                                                                                                                                                                                                                                                                                                                                                                                     \n",
       " Biology andrelated topics                           Population biology Population decline Populati...                                                                                                                                                                                                                                                                                                                                                                                                                                                                                                                                                                                                                                                                                                                                                                                                     \n",
       " Populationecology                                   Earth's energy budget I = P × A × T Kaya ident...                                                                                                                                                                                                                                                                                                                                                                                                                                                                                                                                                                                                                                                                                                                                                                                                     \n",
       " Society and population                              Biocapacity Human overpopulation Malthusian ca...                                                                                                                                                                                                                                                                                                                                                                                                                                                                                                                                                                                                                                                                                                                                                                                                     \n",
       " Publications                                        Population and Environment Population and Deve...                                                                                                                                                                                                                                                                                                                                                                                                                                                                                                                                                                                                                                                                                                                                                                                                     \n",
       " Lists                                               Population and housing censuses by country Lar...                                                                                                                                                                                                                                                                                                                                                                                                                                                                                                                                                                                                                                                                                                                                                                                                     \n",
       " Events andorganizations                             7 Billion Actions Church of Euthanasia Interna...                                                                                                                                                                                                                                                                                                                                                                                                                                                                                                                                                                                                                                                                                                                                                                                                     \n",
       " Related topics                                      Bennett's law Green Revolution Human impact on...                                                                                                                                                                                                                                                                                                                                                                                                                                                                                                                                                                                                                                                                                                                                                                                                     \n",
       " Commons  Category                                                                   Commons  Category                                                                                                                                                                                                                                                                                                                                                                                                                                                                                                                                                                                                                                                                                                                                                                                                     ]"
      ]
     },
     "execution_count": 19,
     "metadata": {},
     "output_type": "execute_result"
    }
   ],
   "source": [
    "filename = 'https://en.wikipedia.org/wiki/World_population_estimates'\n",
    "tables = read_html(filename, header=0, index_col=0, decimal='M')\n"
   ]
  },
  {
   "cell_type": "markdown",
   "metadata": {},
   "source": [
    "Select `tables[1]`, which is the second table on the page."
   ]
  },
  {
   "cell_type": "code",
   "execution_count": 20,
   "metadata": {},
   "outputs": [
    {
     "data": {
      "text/html": [
       "<div>\n",
       "<style scoped>\n",
       "    .dataframe tbody tr th:only-of-type {\n",
       "        vertical-align: middle;\n",
       "    }\n",
       "\n",
       "    .dataframe tbody tr th {\n",
       "        vertical-align: top;\n",
       "    }\n",
       "\n",
       "    .dataframe thead th {\n",
       "        text-align: right;\n",
       "    }\n",
       "</style>\n",
       "<table border=\"1\" class=\"dataframe\">\n",
       "  <thead>\n",
       "    <tr style=\"text-align: right;\">\n",
       "      <th></th>\n",
       "      <th>PRB (1973–2016)[15]</th>\n",
       "      <th>UN (2015)[16]</th>\n",
       "      <th>Maddison (2008)[17]</th>\n",
       "      <th>HYDE (2010)[18]</th>\n",
       "      <th>Tanton (1994)[19]</th>\n",
       "      <th>Biraben (1980)[20]</th>\n",
       "      <th>McEvedy &amp; Jones (1978)[21]</th>\n",
       "      <th>Thomlinson (1975)[22]</th>\n",
       "      <th>Durand (1974)[23]</th>\n",
       "      <th>Clark (1967)[24]</th>\n",
       "      <th>Gapminder</th>\n",
       "    </tr>\n",
       "    <tr>\n",
       "      <th>Year</th>\n",
       "      <th></th>\n",
       "      <th></th>\n",
       "      <th></th>\n",
       "      <th></th>\n",
       "      <th></th>\n",
       "      <th></th>\n",
       "      <th></th>\n",
       "      <th></th>\n",
       "      <th></th>\n",
       "      <th></th>\n",
       "      <th></th>\n",
       "    </tr>\n",
       "  </thead>\n",
       "  <tbody>\n",
       "    <tr>\n",
       "      <th>−10000</th>\n",
       "      <td>NaN</td>\n",
       "      <td>NaN</td>\n",
       "      <td>NaN</td>\n",
       "      <td>2M[25]</td>\n",
       "      <td>NaN</td>\n",
       "      <td>NaN</td>\n",
       "      <td>4.0</td>\n",
       "      <td>1–10M</td>\n",
       "      <td>NaN</td>\n",
       "      <td>NaN</td>\n",
       "      <td>4.0</td>\n",
       "    </tr>\n",
       "    <tr>\n",
       "      <th>−9000</th>\n",
       "      <td>NaN</td>\n",
       "      <td>NaN</td>\n",
       "      <td>NaN</td>\n",
       "      <td>4.</td>\n",
       "      <td>NaN</td>\n",
       "      <td>NaN</td>\n",
       "      <td>NaN</td>\n",
       "      <td>NaN</td>\n",
       "      <td>NaN</td>\n",
       "      <td>NaN</td>\n",
       "      <td>NaN</td>\n",
       "    </tr>\n",
       "    <tr>\n",
       "      <th>−8000</th>\n",
       "      <td>5.</td>\n",
       "      <td>NaN</td>\n",
       "      <td>NaN</td>\n",
       "      <td>5.</td>\n",
       "      <td>NaN</td>\n",
       "      <td>NaN</td>\n",
       "      <td>NaN</td>\n",
       "      <td>NaN</td>\n",
       "      <td>5–10M</td>\n",
       "      <td>NaN</td>\n",
       "      <td>NaN</td>\n",
       "    </tr>\n",
       "    <tr>\n",
       "      <th>−7000</th>\n",
       "      <td>7.</td>\n",
       "      <td>NaN</td>\n",
       "      <td>NaN</td>\n",
       "      <td>8.</td>\n",
       "      <td>NaN</td>\n",
       "      <td>NaN</td>\n",
       "      <td>NaN</td>\n",
       "      <td>NaN</td>\n",
       "      <td>NaN</td>\n",
       "      <td>NaN</td>\n",
       "      <td>NaN</td>\n",
       "    </tr>\n",
       "    <tr>\n",
       "      <th>−6000</th>\n",
       "      <td>14.</td>\n",
       "      <td>NaN</td>\n",
       "      <td>NaN</td>\n",
       "      <td>11.</td>\n",
       "      <td>NaN</td>\n",
       "      <td>NaN</td>\n",
       "      <td>NaN</td>\n",
       "      <td>NaN</td>\n",
       "      <td>NaN</td>\n",
       "      <td>NaN</td>\n",
       "      <td>NaN</td>\n",
       "    </tr>\n",
       "  </tbody>\n",
       "</table>\n",
       "</div>"
      ],
      "text/plain": [
       "       PRB (1973–2016)[15]  UN (2015)[16] Maddison (2008)[17] HYDE (2010)[18]  \\\n",
       "Year                                                                            \n",
       "−10000                 NaN            NaN                 NaN          2M[25]   \n",
       "−9000                  NaN            NaN                 NaN              4.   \n",
       "−8000                   5.            NaN                 NaN              5.   \n",
       "−7000                   7.            NaN                 NaN              8.   \n",
       "−6000                  14.            NaN                 NaN             11.   \n",
       "\n",
       "        Tanton (1994)[19]  Biraben (1980)[20]  McEvedy & Jones (1978)[21]  \\\n",
       "Year                                                                        \n",
       "−10000                NaN                 NaN                         4.0   \n",
       "−9000                 NaN                 NaN                         NaN   \n",
       "−8000                 NaN                 NaN                         NaN   \n",
       "−7000                 NaN                 NaN                         NaN   \n",
       "−6000                 NaN                 NaN                         NaN   \n",
       "\n",
       "       Thomlinson (1975)[22] Durand (1974)[23] Clark (1967)[24]  Gapminder  \n",
       "Year                                                                        \n",
       "−10000                 1–10M               NaN              NaN        4.0  \n",
       "−9000                    NaN               NaN              NaN        NaN  \n",
       "−8000                    NaN             5–10M              NaN        NaN  \n",
       "−7000                    NaN               NaN              NaN        NaN  \n",
       "−6000                    NaN               NaN              NaN        NaN  "
      ]
     },
     "execution_count": 20,
     "metadata": {},
     "output_type": "execute_result"
    }
   ],
   "source": [
    "table1 = tables[1]\n",
    "table1.head()"
   ]
  },
  {
   "cell_type": "markdown",
   "metadata": {},
   "source": [
    "Not all agencies and researchers provided estimates for the same dates.  Again `NaN` is the special value that indicates missing data."
   ]
  },
  {
   "cell_type": "code",
   "execution_count": 21,
   "metadata": {},
   "outputs": [
    {
     "data": {
      "text/html": [
       "<div>\n",
       "<style scoped>\n",
       "    .dataframe tbody tr th:only-of-type {\n",
       "        vertical-align: middle;\n",
       "    }\n",
       "\n",
       "    .dataframe tbody tr th {\n",
       "        vertical-align: top;\n",
       "    }\n",
       "\n",
       "    .dataframe thead th {\n",
       "        text-align: right;\n",
       "    }\n",
       "</style>\n",
       "<table border=\"1\" class=\"dataframe\">\n",
       "  <thead>\n",
       "    <tr style=\"text-align: right;\">\n",
       "      <th></th>\n",
       "      <th>PRB (1973–2016)[15]</th>\n",
       "      <th>UN (2015)[16]</th>\n",
       "      <th>Maddison (2008)[17]</th>\n",
       "      <th>HYDE (2010)[18]</th>\n",
       "      <th>Tanton (1994)[19]</th>\n",
       "      <th>Biraben (1980)[20]</th>\n",
       "      <th>McEvedy &amp; Jones (1978)[21]</th>\n",
       "      <th>Thomlinson (1975)[22]</th>\n",
       "      <th>Durand (1974)[23]</th>\n",
       "      <th>Clark (1967)[24]</th>\n",
       "      <th>Gapminder</th>\n",
       "    </tr>\n",
       "    <tr>\n",
       "      <th>Year</th>\n",
       "      <th></th>\n",
       "      <th></th>\n",
       "      <th></th>\n",
       "      <th></th>\n",
       "      <th></th>\n",
       "      <th></th>\n",
       "      <th></th>\n",
       "      <th></th>\n",
       "      <th></th>\n",
       "      <th></th>\n",
       "      <th></th>\n",
       "    </tr>\n",
       "  </thead>\n",
       "  <tbody>\n",
       "    <tr>\n",
       "      <th>1913</th>\n",
       "      <td>NaN</td>\n",
       "      <td>NaN</td>\n",
       "      <td>1793.</td>\n",
       "      <td>NaN</td>\n",
       "      <td>NaN</td>\n",
       "      <td>NaN</td>\n",
       "      <td>NaN</td>\n",
       "      <td>NaN</td>\n",
       "      <td>NaN</td>\n",
       "      <td>NaN</td>\n",
       "      <td>1829.0</td>\n",
       "    </tr>\n",
       "    <tr>\n",
       "      <th>1920</th>\n",
       "      <td>NaN</td>\n",
       "      <td>1860.0</td>\n",
       "      <td>1863.</td>\n",
       "      <td>1912.</td>\n",
       "      <td>NaN</td>\n",
       "      <td>NaN</td>\n",
       "      <td>NaN</td>\n",
       "      <td>NaN</td>\n",
       "      <td>NaN</td>\n",
       "      <td>1968.</td>\n",
       "      <td>1924.0</td>\n",
       "    </tr>\n",
       "    <tr>\n",
       "      <th>1925</th>\n",
       "      <td>2000.</td>\n",
       "      <td>NaN</td>\n",
       "      <td>NaN</td>\n",
       "      <td>NaN</td>\n",
       "      <td>NaN</td>\n",
       "      <td>NaN</td>\n",
       "      <td>2000.0</td>\n",
       "      <td>NaN</td>\n",
       "      <td>NaN</td>\n",
       "      <td>NaN</td>\n",
       "      <td>2007.0</td>\n",
       "    </tr>\n",
       "    <tr>\n",
       "      <th>1930</th>\n",
       "      <td>NaN</td>\n",
       "      <td>2070.0</td>\n",
       "      <td>NaN</td>\n",
       "      <td>2092.</td>\n",
       "      <td>NaN</td>\n",
       "      <td>NaN</td>\n",
       "      <td>NaN</td>\n",
       "      <td>NaN</td>\n",
       "      <td>NaN</td>\n",
       "      <td>2145.</td>\n",
       "      <td>2100.0</td>\n",
       "    </tr>\n",
       "    <tr>\n",
       "      <th>1940</th>\n",
       "      <td>NaN</td>\n",
       "      <td>2300.0</td>\n",
       "      <td>2299.</td>\n",
       "      <td>2307.</td>\n",
       "      <td>NaN</td>\n",
       "      <td>NaN</td>\n",
       "      <td>NaN</td>\n",
       "      <td>NaN</td>\n",
       "      <td>NaN</td>\n",
       "      <td>2340.</td>\n",
       "      <td>2324.0</td>\n",
       "    </tr>\n",
       "  </tbody>\n",
       "</table>\n",
       "</div>"
      ],
      "text/plain": [
       "     PRB (1973–2016)[15]  UN (2015)[16] Maddison (2008)[17] HYDE (2010)[18]  \\\n",
       "Year                                                                          \n",
       "1913                 NaN            NaN               1793.             NaN   \n",
       "1920                 NaN         1860.0               1863.           1912.   \n",
       "1925               2000.            NaN                 NaN             NaN   \n",
       "1930                 NaN         2070.0                 NaN           2092.   \n",
       "1940                 NaN         2300.0               2299.           2307.   \n",
       "\n",
       "      Tanton (1994)[19]  Biraben (1980)[20]  McEvedy & Jones (1978)[21]  \\\n",
       "Year                                                                      \n",
       "1913                NaN                 NaN                         NaN   \n",
       "1920                NaN                 NaN                         NaN   \n",
       "1925                NaN                 NaN                      2000.0   \n",
       "1930                NaN                 NaN                         NaN   \n",
       "1940                NaN                 NaN                         NaN   \n",
       "\n",
       "     Thomlinson (1975)[22] Durand (1974)[23] Clark (1967)[24]  Gapminder  \n",
       "Year                                                                      \n",
       "1913                   NaN               NaN              NaN     1829.0  \n",
       "1920                   NaN               NaN            1968.     1924.0  \n",
       "1925                   NaN               NaN              NaN     2007.0  \n",
       "1930                   NaN               NaN            2145.     2100.0  \n",
       "1940                   NaN               NaN            2340.     2324.0  "
      ]
     },
     "execution_count": 21,
     "metadata": {},
     "output_type": "execute_result"
    }
   ],
   "source": [
    "table1.tail()"
   ]
  },
  {
   "cell_type": "markdown",
   "metadata": {},
   "source": [
    "Again, we'll replace the long column names with more convenient abbreviations."
   ]
  },
  {
   "cell_type": "code",
   "execution_count": 23,
   "metadata": {},
   "outputs": [],
   "source": [
    "table1.columns = ['PRB', 'UN', 'Maddison', 'HYDE', 'Tanton', 'Biraben', 'McEvedy & Jones', 'Thomlinson', 'Durand', 'Clark', 'Column11']\n"
   ]
  },
  {
   "cell_type": "markdown",
   "metadata": {},
   "source": [
    "Some of the estimates are in a form Pandas doesn't recognize as numbers, but we can coerce them to be numeric."
   ]
  },
  {
   "cell_type": "code",
   "execution_count": 24,
   "metadata": {},
   "outputs": [],
   "source": [
    "for col in table1.columns:\n",
    "    table1[col] = pd.to_numeric(table1[col], errors='coerce')"
   ]
  },
  {
   "cell_type": "markdown",
   "metadata": {},
   "source": [
    "Here are the results.  Notice that we are working in millions now, not billions."
   ]
  },
  {
   "cell_type": "code",
   "execution_count": 25,
   "metadata": {
    "scrolled": false
   },
   "outputs": [
    {
     "data": {
      "image/png": "[encoded data removed]",
      "text/plain": [
       "<Figure size 450x300 with 1 Axes>"
      ]
     },
     "metadata": {
      "needs_background": "light"
     },
     "output_type": "display_data"
    }
   ],
   "source": [
    "table1.plot()\n",
    "decorate(xlim=[-10000, 2000], xlabel='Year', \n",
    "         ylabel='World population (millions)',\n",
    "         title='Prehistoric population estimates')\n",
    "plt.legend(fontsize='small');"
   ]
  },
  {
   "cell_type": "markdown",
   "metadata": {},
   "source": [
    "We can use `xlim` to zoom in on everything after Year 0."
   ]
  },
  {
   "cell_type": "code",
   "execution_count": 26,
   "metadata": {},
   "outputs": [
    {
     "data": {
      "image/png": "[encoded data removed]",
      "text/plain": [
       "<Figure size 450x300 with 1 Axes>"
      ]
     },
     "metadata": {
      "needs_background": "light"
     },
     "output_type": "display_data"
    }
   ],
   "source": [
    "table1.plot()\n",
    "decorate(xlim=[0, 2000], xlabel='Year', \n",
    "         ylabel='World population (millions)',\n",
    "         title='CE population estimates')\n",
    "plt.legend(fontsize='small');"
   ]
  },
  {
   "cell_type": "markdown",
   "metadata": {},
   "source": [
    "See if you can find a model that fits these data well from Year 0 to 1950.\n",
    "\n",
    "How well does your best model predict actual population growth from 1950 to the present?"
   ]
  },
  {
   "cell_type": "code",
   "execution_count": null,
   "metadata": {},
   "outputs": [],
   "source": [
    "#Why is column 11 coming up in the code above...hmmm. I plan to come back and try this exercise at a later time"
   ]
  },
  {
   "cell_type": "code",
   "execution_count": null,
   "metadata": {},
   "outputs": [],
   "source": []
  },
  {
   "cell_type": "code",
   "execution_count": null,
   "metadata": {},
   "outputs": [],
   "source": []
  }
 ],
 "metadata": {
  "kernelspec": {
   "display_name": "Python 3 (ipykernel)",
   "language": "python",
   "name": "python3"
  },
  "language_info": {
   "codemirror_mode": {
    "name": "ipython",
    "version": 3
   },
   "file_extension": ".py",
   "mimetype": "text/x-python",
   "name": "python",
   "nbconvert_exporter": "python",
   "pygments_lexer": "ipython3",
   "version": "3.9.12"
  }
 },
 "nbformat": 4,
 "nbformat_minor": 2
}
