{
 "cells": [
  {
   "cell_type": "markdown",
   "metadata": {},
   "source": [
    "# Modeling and Simulation in Python\n",
    "\n",
    "Chapter 1\n",
    "\n",
    "Copyright 2020 Allen Downey\n",
    "\n",
    "License: [Creative Commons Attribution 4.0 International](https://creativecommons.org/licenses/by/4.0)"
   ]
  },
  {
   "cell_type": "markdown",
   "metadata": {},
   "source": [
    "## Jupyter\n",
    "\n",
    "Welcome to *Modeling and Simulation*, welcome to Python, and welcome to Jupyter.\n",
    "\n",
    "This is a Jupyter notebook, which is a development environment where you can write and run Python code.  Each notebook is divided into cells.  Each cell contains either text (like this cell) or Python code.\n",
    "\n",
    "### Selecting and running cells\n",
    "\n",
    "To select a cell, click in the left margin next to the cell.  You should see a blue frame surrounding the selected cell.\n",
    "\n",
    "To edit a code cell, click inside the cell.  You should see a green frame around the selected cell, and you should see a cursor inside the cell.\n",
    "\n",
    "To edit a text cell, double-click inside the cell.  Again, you should see a green frame around the selected cell, and you should see a cursor inside the cell.\n",
    "\n",
    "To run a cell, hold down SHIFT and press ENTER.  \n",
    "\n",
    "* If you run a text cell, Jupyter formats the text and displays the result.\n",
    "\n",
    "* If you run a code cell, Jupyter runs the Python code in the cell and displays the result, if any.\n",
    "\n",
    "To try it out, edit this cell, change some of the text, and then press SHIFT-ENTER to format it."
   ]
  },
  {
   "cell_type": "markdown",
   "metadata": {},
   "source": [
    "### Adding and removing cells\n",
    "\n",
    "You can add and remove cells from a notebook using the buttons in the toolbar and the items in the menu, both of which you should see at the top of this notebook.\n",
    "\n",
    "Try the following exercises:\n",
    "\n",
    "1.  From the Insert menu select \"Insert cell below\" to add a cell below this one.  By default, you get a code cell, as you can see in the pulldown menu that says \"Code\".\n",
    "\n",
    "2.  In the new cell, add a print statement like `print('Hello')`, and run it.\n",
    "\n",
    "3.  Add another cell, select the new cell, and then click on the pulldown menu that says \"Code\" and select \"Markdown\".  This makes the new cell a text cell.\n",
    "\n",
    "4.  In the new cell, type some text, and then run it.\n",
    "\n",
    "5.  Use the arrow buttons in the toolbar to move cells up and down.\n",
    "\n",
    "6.  Use the cut, copy, and paste buttons to delete, add, and move cells.\n",
    "\n",
    "7.  As you make changes, Jupyter saves your notebook automatically, but if you want to make sure, you can press the save button, which looks like a floppy disk from the 1990s.\n",
    "\n",
    "8.  Finally, when you are done with a notebook, select \"Close and Halt\" from the File menu."
   ]
  },
  {
   "cell_type": "markdown",
   "metadata": {},
   "source": [
    "### Using the notebooks\n",
    "\n",
    "The notebooks for each chapter contain the code from the chapter along with additional examples, explanatory text, and exercises.  I recommend you \n",
    "\n",
    "1. Read the chapter first to understand the concepts and vocabulary, \n",
    "2. Run the notebook to review what you learned and see it in action, and then\n",
    "3. Attempt the exercises.\n",
    "\n",
    "If you try to work through the notebooks without reading the book, you're gonna have a bad time.  The notebooks contain some explanatory text, but it is probably not enough to make sense if you have not read the book.  If you are working through a notebook and you get stuck, you might want to re-read (or read!) the corresponding section of the book."
   ]
  },
  {
   "cell_type": "markdown",
   "metadata": {},
   "source": [
    "### Installing modules\n",
    "\n",
    "These notebooks use standard Python modules like NumPy and SciPy.  I assume you already have them installed in your environment.\n",
    "\n",
    "They also use two less common modules: Pint, which provides units, and modsim, which contains code I wrote specifically for this book.\n",
    "\n",
    "The following cells check whether you have these modules already and tries to install them if you don't."
   ]
  },
  {
   "cell_type": "code",
   "execution_count": 9,
   "metadata": {},
   "outputs": [],
   "source": [
    "try:\n",
    "    import pint\n",
    "except ImportError:\n",
    "    !pip install pint\n",
    "    import pint"
   ]
  },
  {
   "cell_type": "code",
   "execution_count": 10,
   "metadata": {},
   "outputs": [],
   "source": [
    "try:\n",
    "    from modsim import *\n",
    "except ImportError:\n",
    "    !pip install modsimpy\n",
    "    from modsim import *"
   ]
  },
  {
   "cell_type": "markdown",
   "metadata": {},
   "source": [
    "The first time you run this on a new installation of Python, it might produce a warning message in pink.  That's probably ok, but if you get a message that says `modsim.py depends on Python 3.7 features`, that means you have an older version of Python, and some features in `modsim.py` won't work correctly.\n",
    "\n",
    "If you need a newer version of Python, I recommend installing Anaconda.  You'll find more information in the preface of the book.\n",
    "\n",
    "You can find out what version of Python and Jupyter you have by running the following cells."
   ]
  },
  {
   "cell_type": "code",
   "execution_count": 3,
   "metadata": {},
   "outputs": [
    {
     "name": "stdout",
     "output_type": "stream",
     "text": [
      "Python 3.10.9\r\n"
     ]
    }
   ],
   "source": [
    "!python --version"
   ]
  },
  {
   "cell_type": "code",
   "execution_count": 4,
   "metadata": {},
   "outputs": [
    {
     "name": "stdout",
     "output_type": "stream",
     "text": [
      "6.5.2\r\n"
     ]
    }
   ],
   "source": [
    "!jupyter-notebook --version"
   ]
  },
  {
   "cell_type": "markdown",
   "metadata": {},
   "source": [
    "### Configuring Jupyter\n",
    "\n",
    "The following cell:\n",
    "\n",
    "1.  Uses a Jupyter \"magic command\" to specify whether figures should appear in the notebook, or pop up in a new window.\n",
    "\n",
    "2.  Configures Jupyter to display some values that would otherwise be invisible.  \n",
    "\n",
    "Select the following cell and press SHIFT-ENTER to run it."
   ]
  },
  {
   "cell_type": "code",
   "execution_count": 11,
   "metadata": {},
   "outputs": [],
   "source": [
    "# Configure Jupyter so figures appear in the notebook\n",
    "%matplotlib inline\n",
    "\n",
    "# Configure Jupyter to display the assigned value after an assignment\n",
    "%config InteractiveShell.ast_node_interactivity='last_expr_or_assign'"
   ]
  },
  {
   "cell_type": "markdown",
   "metadata": {},
   "source": [
    "## The penny myth\n",
    "\n",
    "The following cells contain code from the beginning of Chapter 1.\n",
    "\n",
    "`modsim` defines `UNITS`, which contains variables representing pretty much every unit you've ever heard of.  It uses [Pint](https://pint.readthedocs.io/en/latest/), which is a Python library that provides tools for computing with units.\n",
    "\n",
    "The following lines create new variables named `meter` and `second`."
   ]
  },
  {
   "cell_type": "code",
   "execution_count": 13,
   "metadata": {},
   "outputs": [],
   "source": [
    "\n",
    "class UNITS:\n",
    "    meter = 1\n",
    "    second = 1\n"
   ]
  },
  {
   "cell_type": "code",
   "execution_count": 15,
   "metadata": {},
   "outputs": [
    {
     "data": {
      "text/plain": [
       "1"
      ]
     },
     "execution_count": 15,
     "metadata": {},
     "output_type": "execute_result"
    }
   ],
   "source": [
    "meter = UNITS.meter"
   ]
  },
  {
   "cell_type": "code",
   "execution_count": 16,
   "metadata": {},
   "outputs": [
    {
     "data": {
      "text/plain": [
       "1"
      ]
     },
     "execution_count": 16,
     "metadata": {},
     "output_type": "execute_result"
    }
   ],
   "source": [
    "second = UNITS.second"
   ]
  },
  {
   "cell_type": "markdown",
   "metadata": {},
   "source": [
    "To find out what other units are defined, type `UNITS.` (including the period) in the next cell and then press TAB.  You should see a pop-up menu with a list of units."
   ]
  },
  {
   "cell_type": "code",
   "execution_count": 17,
   "metadata": {},
   "outputs": [
    {
     "ename": "SyntaxError",
     "evalue": "invalid syntax (34267429.py, line 1)",
     "output_type": "error",
     "traceback": [
      "\u001b[0;36m  Cell \u001b[0;32mIn[17], line 1\u001b[0;36m\u001b[0m\n\u001b[0;31m    UNITS.\u001b[0m\n\u001b[0m          ^\u001b[0m\n\u001b[0;31mSyntaxError\u001b[0m\u001b[0;31m:\u001b[0m invalid syntax\n"
     ]
    }
   ],
   "source": [
    "UNITS.#meter, mro, second"
   ]
  },
  {
   "cell_type": "markdown",
   "metadata": {},
   "source": [
    "Create a variable named `a` and give it the value of acceleration due to gravity."
   ]
  },
  {
   "cell_type": "code",
   "execution_count": 18,
   "metadata": {},
   "outputs": [
    {
     "data": {
      "text/plain": [
       "9.8"
      ]
     },
     "execution_count": 18,
     "metadata": {},
     "output_type": "execute_result"
    }
   ],
   "source": [
    "a = 9.8 * meter / second**2"
   ]
  },
  {
   "cell_type": "markdown",
   "metadata": {},
   "source": [
    "Create `t` and give it the value 4 seconds."
   ]
  },
  {
   "cell_type": "code",
   "execution_count": 19,
   "metadata": {},
   "outputs": [
    {
     "data": {
      "text/plain": [
       "4"
      ]
     },
     "execution_count": 19,
     "metadata": {},
     "output_type": "execute_result"
    }
   ],
   "source": [
    "t = 4 * second"
   ]
  },
  {
   "cell_type": "markdown",
   "metadata": {},
   "source": [
    "Compute the distance a penny would fall after `t` seconds with constant acceleration `a`.  Notice that the units of the result are correct."
   ]
  },
  {
   "cell_type": "code",
   "execution_count": 20,
   "metadata": {},
   "outputs": [
    {
     "data": {
      "text/plain": [
       "78.4"
      ]
     },
     "execution_count": 20,
     "metadata": {},
     "output_type": "execute_result"
    }
   ],
   "source": [
    "a * t**2 / 2"
   ]
  },
  {
   "cell_type": "markdown",
   "metadata": {},
   "source": [
    "**Exercise**: Compute the velocity of the penny after `t` seconds.  Check that the units of the result are correct."
   ]
  },
  {
   "cell_type": "code",
   "execution_count": null,
   "metadata": {},
   "outputs": [],
   "source": [
    "a = 9.8 #meter / second**2\n",
    "t = 4  #seconds\n",
    "\n",
    "velocity = a * t\n",
    "print(\"Velocity: \", velocity, \"m/s\")"
   ]
  },
  {
   "cell_type": "markdown",
   "metadata": {},
   "source": [
    "**Exercise**: Why would it be nonsensical to add `a` and `t`? What happens if you try?"
   ]
  },
  {
   "cell_type": "code",
   "execution_count": null,
   "metadata": {},
   "outputs": [],
   "source": [
    "#it would be nonsensical since the value is very close to the acceleration \n",
    "addvelocity = a + t\n",
    "print(\"Velocity: \", addvelocity, \"m/s\") "
   ]
  },
  {
   "cell_type": "markdown",
   "metadata": {},
   "source": [
    "The error messages you get from Python are big and scary, but if you read them carefully, they contain a lot of useful information.\n",
    "\n",
    "1.  Start from the bottom and read up.\n",
    "2.  The last line usually tells you what type of error happened, and sometimes additional information.\n",
    "3.  The previous lines are a \"traceback\" of what was happening when the error occurred.  The first section of the traceback shows the code you wrote.  The following sections are often from Python libraries.\n",
    "\n",
    "In this example, you should get a `DimensionalityError`, which is defined by Pint to indicate that you have violated a rules of dimensional analysis: you cannot add quantities with different dimensions.\n",
    "\n",
    "Before you go on, you might want to delete the erroneous code so the notebook can run without errors."
   ]
  },
  {
   "cell_type": "markdown",
   "metadata": {},
   "source": [
    "## Falling pennies\n",
    "\n",
    "Now let's solve the falling penny problem.\n",
    "\n",
    "Set `h` to the height of the Empire State Building:"
   ]
  },
  {
   "cell_type": "code",
   "execution_count": null,
   "metadata": {},
   "outputs": [],
   "source": [
    "h = 381 * meter"
   ]
  },
  {
   "cell_type": "markdown",
   "metadata": {},
   "source": [
    "Compute the time it would take a penny to fall, assuming constant acceleration.\n",
    "\n",
    "$ a t^2 / 2 = h $\n",
    "\n",
    "$ t = \\sqrt{2 h / a}$"
   ]
  },
  {
   "cell_type": "code",
   "execution_count": null,
   "metadata": {},
   "outputs": [],
   "source": [
    "t = sqrt(2 * h / a)"
   ]
  },
  {
   "cell_type": "markdown",
   "metadata": {},
   "source": [
    "Given `t`, we can compute the velocity of the penny when it lands.\n",
    "\n",
    "$v = a t$"
   ]
  },
  {
   "cell_type": "code",
   "execution_count": 8,
   "metadata": {},
   "outputs": [
    {
     "ename": "NameError",
     "evalue": "name 'a' is not defined",
     "output_type": "error",
     "traceback": [
      "\u001b[0;31m---------------------------------------------------------------------------\u001b[0m",
      "\u001b[0;31mNameError\u001b[0m                                 Traceback (most recent call last)",
      "Cell \u001b[0;32mIn[8], line 1\u001b[0m\n\u001b[0;32m----> 1\u001b[0m v \u001b[38;5;241m=\u001b[39m \u001b[43ma\u001b[49m \u001b[38;5;241m*\u001b[39m t\n\u001b[1;32m      2\u001b[0m \u001b[38;5;28;01mclass\u001b[39;00m \u001b[38;5;21;01mUNITS\u001b[39;00m:\n\u001b[1;32m      3\u001b[0m     meter \u001b[38;5;241m=\u001b[39m \u001b[38;5;241m1\u001b[39m\n",
      "\u001b[0;31mNameError\u001b[0m: name 'a' is not defined"
     ]
    }
   ],
   "source": [
    "v = a * t\n"
   ]
  },
  {
   "cell_type": "markdown",
   "metadata": {},
   "source": [
    "We can convert from one set of units to another like this:"
   ]
  },
  {
   "cell_type": "code",
   "execution_count": null,
   "metadata": {},
   "outputs": [],
   "source": [
    "mile = UNITS.mile\n",
    "hour = UNITS.hour"
   ]
  },
  {
   "cell_type": "code",
   "execution_count": null,
   "metadata": {},
   "outputs": [],
   "source": [
    "v.to(mile/hour)"
   ]
  },
  {
   "cell_type": "markdown",
   "metadata": {},
   "source": [
    "**Exercise:** Suppose you bring a 10 foot pole to the top of the Empire State Building and use it to drop the penny from `h` plus 10 feet.\n",
    "\n",
    "Define a variable named `foot` that contains the unit `foot` provided by `UNITS`.  Define a variable named `pole_height` and give it the value 10 feet.\n",
    "\n",
    "What happens if you add `h`, which is in units of meters, to `pole_height`, which is in units of feet?  What happens if you write the addition the other way around?"
   ]
  },
  {
   "cell_type": "code",
   "execution_count": 22,
   "metadata": {},
   "outputs": [
    {
     "ename": "AttributeError",
     "evalue": "type object 'UNITS' has no attribute 'foot'",
     "output_type": "error",
     "traceback": [
      "\u001b[0;31m---------------------------------------------------------------------------\u001b[0m",
      "\u001b[0;31mAttributeError\u001b[0m                            Traceback (most recent call last)",
      "Cell \u001b[0;32mIn[22], line 1\u001b[0m\n\u001b[0;32m----> 1\u001b[0m foot \u001b[38;5;241m=\u001b[39m \u001b[43mUNITS\u001b[49m\u001b[38;5;241;43m.\u001b[39;49m\u001b[43mfoot\u001b[49m\n\u001b[1;32m      2\u001b[0m pole_height \u001b[38;5;241m=\u001b[39m \u001b[38;5;241m10\u001b[39m \u001b[38;5;241m*\u001b[39m foot\n",
      "\u001b[0;31mAttributeError\u001b[0m: type object 'UNITS' has no attribute 'foot'"
     ]
    }
   ],
   "source": [
    "foot = UNITS.foot\n",
    "pole_height = 10 * foot"
   ]
  },
  {
   "cell_type": "code",
   "execution_count": 21,
   "metadata": {},
   "outputs": [
    {
     "ename": "NameError",
     "evalue": "name 'h' is not defined",
     "output_type": "error",
     "traceback": [
      "\u001b[0;31m---------------------------------------------------------------------------\u001b[0m",
      "\u001b[0;31mNameError\u001b[0m                                 Traceback (most recent call last)",
      "Cell \u001b[0;32mIn[21], line 1\u001b[0m\n\u001b[0;32m----> 1\u001b[0m result_1 \u001b[38;5;241m=\u001b[39m \u001b[43mh\u001b[49m \u001b[38;5;241m+\u001b[39m pole_height\n\u001b[1;32m      2\u001b[0m result_2 \u001b[38;5;241m=\u001b[39m pole_height \u001b[38;5;241m+\u001b[39m h\n\u001b[1;32m      4\u001b[0m \u001b[38;5;28mprint\u001b[39m(\u001b[38;5;124m\"\u001b[39m\u001b[38;5;124mResult 1:\u001b[39m\u001b[38;5;124m\"\u001b[39m, result_1)\n",
      "\u001b[0;31mNameError\u001b[0m: name 'h' is not defined"
     ]
    }
   ],
   "source": [
    "result_1 = h + pole_height\n",
    "result_2 = pole_height + h\n",
    "\n",
    "print(\"Result 1:\", result_1)\n",
    "print(\"Result 2:\", result_2)\n"
   ]
  },
  {
   "cell_type": "markdown",
   "metadata": {},
   "source": [
    "**Exercise:** In reality, air resistance limits the velocity of the penny.  At about 18 m/s, the force of air resistance equals the force of gravity and the penny stops accelerating.\n",
    "\n",
    "As a simplification, let's assume that the acceleration of the penny is `a` until the penny reaches 18 m/s, and then 0 afterwards.  What is the total time for the penny to fall 381 m?\n",
    "\n",
    "You can break this question into three parts:\n",
    "\n",
    "1. How long until the penny reaches 18 m/s with constant acceleration `a`.\n",
    "2. How far would the penny fall during that time?\n",
    "3. How long to fall the remaining distance with constant velocity 18 m/s?\n",
    "\n",
    "Suggestion: Assign each intermediate result to a variable with a meaningful name.  And assign units to all quantities!"
   ]
  },
  {
   "cell_type": "code",
   "execution_count": 7,
   "metadata": {},
   "outputs": [
    {
     "ename": "NameError",
     "evalue": "name 'UNITS' is not defined",
     "output_type": "error",
     "traceback": [
      "\u001b[0;31m---------------------------------------------------------------------------\u001b[0m",
      "\u001b[0;31mNameError\u001b[0m                                 Traceback (most recent call last)",
      "Cell \u001b[0;32mIn[7], line 2\u001b[0m\n\u001b[1;32m      1\u001b[0m \u001b[38;5;66;03m# Given values\u001b[39;00m\n\u001b[0;32m----> 2\u001b[0m h \u001b[38;5;241m=\u001b[39m \u001b[38;5;241m381\u001b[39m \u001b[38;5;241m*\u001b[39m \u001b[43mUNITS\u001b[49m\u001b[38;5;241m.\u001b[39mmeter \n\u001b[1;32m      3\u001b[0m v_limit \u001b[38;5;241m=\u001b[39m \u001b[38;5;241m18\u001b[39m \u001b[38;5;241m*\u001b[39m UNITS\u001b[38;5;241m.\u001b[39mmeter \u001b[38;5;241m/\u001b[39m UNITS\u001b[38;5;241m.\u001b[39msecond  \n\u001b[1;32m      5\u001b[0m \u001b[38;5;66;03m# Total time\u001b[39;00m\n",
      "\u001b[0;31mNameError\u001b[0m: name 'UNITS' is not defined"
     ]
    }
   ],
   "source": [
    "# Given values\n",
    "h = 381 * UNITS.meter \n",
    "v_limit = 18 * UNITS.meter / UNITS.second  \n",
    "\n",
    "# Total time\n",
    "total_time = t1 + t2"
   ]
  },
  {
   "cell_type": "code",
   "execution_count": null,
   "metadata": {},
   "outputs": [],
   "source": [
    "# Part 1\n",
    "t1 = v_limit / a"
   ]
  },
  {
   "cell_type": "code",
   "execution_count": null,
   "metadata": {},
   "outputs": [],
   "source": [
    "# Part 2: Distance fallen during time t1\n",
    "d1 = (a * t1**2) / 2"
   ]
  },
  {
   "cell_type": "code",
   "execution_count": null,
   "metadata": {},
   "outputs": [],
   "source": [
    "# Part 3: Time to fall the remaining distance with constant velocity v_limit\n",
    "d_remaining = h - d1\n",
    "t2 = d_remaining / v_limit"
   ]
  },
  {
   "cell_type": "markdown",
   "metadata": {},
   "source": [
    "### Restart and run all\n",
    "\n",
    "When you change the contents of a cell, you have to run it again for those changes to have an effect.  If you forget to do that, the results can be confusing, because the code you are looking at is not the code you ran.\n",
    "\n",
    "If you ever lose track of which cells have run, and in what order, you should go to the Kernel menu and select \"Restart & Run All\".  Restarting the kernel means that all of your variables get deleted, and running all the cells means all of your code will run again, in the right order.\n",
    "\n",
    "**Exercise:**  Select \"Restart & Run All\" now and confirm that it does what you want."
   ]
  },
  {
   "cell_type": "code",
   "execution_count": null,
   "metadata": {},
   "outputs": [],
   "source": [
    "I feel like I missed something/step, had lots of errors. "
   ]
  }
 ],
 "metadata": {
  "kernelspec": {
   "display_name": "Python 3 (ipykernel)",
   "language": "python",
   "name": "python3"
  },
  "language_info": {
   "codemirror_mode": {
    "name": "ipython",
    "version": 3
   },
   "file_extension": ".py",
   "mimetype": "text/x-python",
   "name": "python",
   "nbconvert_exporter": "python",
   "pygments_lexer": "ipython3",
   "version": "3.10.11"
  }
 },
 "nbformat": 4,
 "nbformat_minor": 2
}
